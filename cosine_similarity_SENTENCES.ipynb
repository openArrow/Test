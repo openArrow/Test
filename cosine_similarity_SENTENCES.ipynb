{
 "cells": [
  {
   "cell_type": "code",
   "execution_count": 151,
   "metadata": {
    "collapsed": true
   },
   "outputs": [],
   "source": [
    "from sklearn.feature_extraction.text import TfidfTransformer\n",
    "from sklearn.feature_extraction.text import TfidfVectorizer\n",
    "from sklearn.feature_extraction.text import CountVectorizer\n",
    "from sklearn.metrics.pairwise import cosine_similarity\n",
    "from sklearn.metrics.pairwise import linear_kernel\n",
    "import numpy as np"
   ]
  },
  {
   "cell_type": "code",
   "execution_count": 177,
   "metadata": {
    "collapsed": false
   },
   "outputs": [],
   "source": [
    "#working with simple data ,(no preprocessing done now),suppose these are the 2 documemnts\n",
    "textFiles = [\"cs.txt\",\"ec.txt\"]"
   ]
  },
  {
   "cell_type": "code",
   "execution_count": 181,
   "metadata": {
    "collapsed": false
   },
   "outputs": [],
   "source": [
    "import nltk\n",
    "import string\n",
    "from nltk.stem.porter import PorterStemmer\n",
    "import codecs\n",
    "from nltk.tokenize import sent_tokenize\n",
    "from nltk.stem import WordNetLemmatizer\n",
    "wordnet_lemmatizer = WordNetLemmatizer()\n",
    "\n",
    "stemmer = PorterStemmer()\n",
    "def stem_tokens(tokens, stemmer):\n",
    "    stemmed = []\n",
    "    for item in tokens:\n",
    "        item = wordnet_lemmatizer.lemmatize(item)\n",
    "        stemmed.append(stemmer.stem(item))\n",
    "    return stemmed\n",
    "\n",
    "def tokenize(text):\n",
    "    tokens = nltk.word_tokenize(text)\n",
    "    stems = stem_tokens(tokens, stemmer)\n",
    "    return stems\n",
    "\n",
    "sentence_list = {}\n",
    "for file_name in textFiles:\n",
    "    with codecs.open(file_name, \"r\",encoding='utf-8', errors='ignore') as f:  \n",
    "        text = f.read().encode('utf-8').strip()\n",
    "        text = text.replace('\\r', ' ')\n",
    "        text = text.replace('\\n', ' ')\n",
    "        lowers = text.lower().strip()\n",
    "        sentence_list[file_name] = sent_tokenize(lowers) "
   ]
  },
  {
   "cell_type": "code",
   "execution_count": 188,
   "metadata": {
    "collapsed": false
   },
   "outputs": [],
   "source": [
    "def findMaxSimilarity(sentence1, sentenceList):\n",
    "    tfidf = TfidfVectorizer(tokenizer=tokenize, stop_words='english')\n",
    "    token_dict = {}\n",
    "    maxS = 0\n",
    "    sentence1temp = sentence1\n",
    "    sentence1 = sentence1.translate(None, string.punctuation)\n",
    "    no_punctuation = sentence1.translate(None, string.punctuation)\n",
    "    token_dict[\"origSentence\"] = no_punctuation\n",
    "    for sentence in sentenceList: \n",
    "        temp = sentence\n",
    "        sentence = sentence.translate(None, string.punctuation)\n",
    "        no_punctuation = sentence.translate(None, string.punctuation)\n",
    "        token_dict[\"sentence\"] = no_punctuation\n",
    "        tfs = tfidf.fit_transform(token_dict.values())\n",
    "        #print \"SENTENCE1:\",sentence1\n",
    "        #print \"SENTENCE2:\", temp\n",
    "        cosine_similarities = linear_kernel(tfs[0:1], tfs)\n",
    "        cosSim = np.asscalar(cosine_similarities[0][1])\n",
    "        if cosSim >= maxS:\n",
    "            maxSimilarSentence = temp\n",
    "            maxS = cosSim\n",
    "    print \"max similar sentence with similarity:\",maxS\n",
    "    print \"Sentence1:\",sentence1\n",
    "    print \"Sentence2:\", maxSimilarSentence\n",
    "\n",
    "            \n",
    "       \n",
    "\n",
    "\n"
   ]
  },
  {
   "cell_type": "code",
   "execution_count": 189,
   "metadata": {
    "collapsed": false,
    "scrolled": true
   },
   "outputs": [
    {
     "name": "stdout",
     "output_type": "stream",
     "text": [
      "max similar sentence with similarity: 0.190859890046\n",
      "Sentence1: computer science is the study of the theory experimentation and engineering that form the basis for the design and use of computers\n",
      "Sentence2: ternary (with three states) logic has been studied, and some prototype computers made.\n"
     ]
    }
   ],
   "source": [
    "findMaxSimilarity(sentence_list[textFiles[0]][0], sentence_list[textFiles[1]])"
   ]
  },
  {
   "cell_type": "code",
   "execution_count": null,
   "metadata": {
    "collapsed": true
   },
   "outputs": [],
   "source": []
  },
  {
   "cell_type": "code",
   "execution_count": null,
   "metadata": {
    "collapsed": true
   },
   "outputs": [],
   "source": []
  }
 ],
 "metadata": {
  "kernelspec": {
   "display_name": "Python 2",
   "language": "python",
   "name": "python2"
  },
  "language_info": {
   "codemirror_mode": {
    "name": "ipython",
    "version": 2
   },
   "file_extension": ".py",
   "mimetype": "text/x-python",
   "name": "python",
   "nbconvert_exporter": "python",
   "pygments_lexer": "ipython2",
   "version": "2.7.10"
  }
 },
 "nbformat": 4,
 "nbformat_minor": 2
}
