{
 "cells": [
  {
   "cell_type": "code",
   "execution_count": 1,
   "metadata": {
    "collapsed": true
   },
   "outputs": [],
   "source": [
    "from sklearn.feature_extraction.text import TfidfTransformer\n",
    "from sklearn.feature_extraction.text import TfidfVectorizer\n",
    "from sklearn.feature_extraction.text import CountVectorizer"
   ]
  },
  {
   "cell_type": "code",
   "execution_count": 2,
   "metadata": {
    "collapsed": false
   },
   "outputs": [],
   "source": [
    "#working with simple data ,(no preprocessing done now),suppose these are the 4 documemnts\n",
    "textFiles = [\"Doc1.txt\",\"Doc2.txt\",\"Doc3.txt\"]"
   ]
  },
  {
   "cell_type": "code",
   "execution_count": 3,
   "metadata": {
    "collapsed": false
   },
   "outputs": [],
   "source": [
    "import nltk\n",
    "import string\n",
    "from nltk.stem.porter import PorterStemmer\n",
    "import codecs\n",
    "\n",
    "from nltk.stem import WordNetLemmatizer\n",
    "wordnet_lemmatizer = WordNetLemmatizer()\n",
    "\n",
    "token_dict = {}\n",
    "stemmer = PorterStemmer()\n",
    "def stem_tokens(tokens, stemmer):\n",
    "    stemmed = []\n",
    "    for item in tokens:\n",
    "        item = wordnet_lemmatizer.lemmatize(item)\n",
    "        stemmed.append(stemmer.stem(item))\n",
    "    return stemmed\n",
    "\n",
    "def tokenize(text):\n",
    "    tokens = nltk.word_tokenize(text)\n",
    "    stems = stem_tokens(tokens, stemmer)\n",
    "    return stems\n",
    "\n",
    "for file_name in textFiles:\n",
    "    with codecs.open(file_name, \"r\",encoding='utf-8', errors='ignore') as f:  \n",
    "        text = f.read().encode('utf-8').strip()\n",
    "        text = text.replace('\\r', ' ')\n",
    "        text = text.replace('\\n', ' ')\n",
    "        lowers = text.lower().strip()\n",
    "        no_punctuation = lowers.translate(None, string.punctuation)\n",
    "        token_dict[file_name] = no_punctuation"
   ]
  },
  {
   "cell_type": "code",
   "execution_count": 25,
   "metadata": {
    "collapsed": false
   },
   "outputs": [
    {
     "name": "stdout",
     "output_type": "stream",
     "text": [
      "produc  -  0.0640184399664\n",
      "carbon  -  0.192055319899\n",
      "nanotub  -  0.256073759866\n",
      "chemic  -  0.128036879933\n",
      "vapor  -  0.128036879933\n",
      "deposit  -  0.128036879933\n",
      "specif  -  0.0640184399664\n",
      "temperatur  -  0.640184399664\n",
      "use  -  0.320092199832\n",
      "howev  -  0.128036879933\n",
      "control  -  0.0640184399664\n",
      "addit  -  0.128036879933\n",
      "high  -  0.0640184399664\n",
      "nano  -  0.0640184399664\n",
      "need  -  0.0640184399664\n",
      "improv  -  0.0640184399664\n",
      "align  -  0.0640184399664\n",
      "applic  -  0.128036879933\n",
      "devic  -  0.128036879933\n",
      "field  -  0.0640184399664\n",
      "0007  -  0.0640184399664\n",
      "method  -  0.192055319899\n",
      "ha  -  0.0640184399664\n",
      "growth  -  0.384110639799\n",
      "0008  -  0.0640184399664\n",
      "veri  -  0.0640184399664\n",
      "therefor  -  0.0640184399664\n",
      "heretofor  -  0.0640184399664\n",
      "unaddress  -  0.0640184399664\n",
      "exist  -  0.0640184399664\n",
      "art  -  0.0640184399664\n",
      "address  -  0.0640184399664\n",
      "aforement  -  0.0640184399664\n",
      "defici  -  0.0640184399664\n",
      "produc  -  0.0640184399664\n",
      "carbon  -  0.192055319899\n",
      "nanotub  -  0.256073759866\n",
      "chemic  -  0.128036879933\n",
      "vapor  -  0.128036879933\n",
      "deposit  -  0.128036879933\n",
      "specif  -  0.0640184399664\n",
      "temperatur  -  0.640184399664\n",
      "use  -  0.320092199832\n",
      "howev  -  0.128036879933\n",
      "control  -  0.0640184399664\n",
      "addit  -  0.128036879933\n",
      "high  -  0.0640184399664\n",
      "nano  -  0.0640184399664\n",
      "need  -  0.0640184399664\n",
      "improv  -  0.0640184399664\n",
      "align  -  0.0640184399664\n",
      "applic  -  0.128036879933\n",
      "devic  -  0.128036879933\n",
      "field  -  0.0640184399664\n",
      "0007  -  0.0640184399664\n",
      "method  -  0.192055319899\n",
      "ha  -  0.0640184399664\n",
      "growth  -  0.384110639799\n",
      "0008  -  0.0640184399664\n",
      "veri  -  0.0640184399664\n",
      "therefor  -  0.0640184399664\n",
      "heretofor  -  0.0640184399664\n",
      "unaddress  -  0.0640184399664\n",
      "exist  -  0.0640184399664\n",
      "art  -  0.0640184399664\n",
      "address  -  0.0640184399664\n",
      "aforement  -  0.0640184399664\n",
      "defici  -  0.0640184399664\n",
      "produc  -  0.0640184399664\n",
      "carbon  -  0.192055319899\n",
      "nanotub  -  0.256073759866\n",
      "chemic  -  0.128036879933\n",
      "vapor  -  0.128036879933\n",
      "deposit  -  0.128036879933\n",
      "specif  -  0.0640184399664\n",
      "temperatur  -  0.640184399664\n",
      "use  -  0.320092199832\n",
      "howev  -  0.128036879933\n",
      "control  -  0.0640184399664\n",
      "addit  -  0.128036879933\n",
      "high  -  0.0640184399664\n",
      "nano  -  0.0640184399664\n",
      "need  -  0.0640184399664\n",
      "improv  -  0.0640184399664\n",
      "align  -  0.0640184399664\n",
      "applic  -  0.128036879933\n",
      "devic  -  0.128036879933\n",
      "field  -  0.0640184399664\n",
      "0007  -  0.0640184399664\n",
      "method  -  0.192055319899\n",
      "ha  -  0.0640184399664\n",
      "growth  -  0.384110639799\n",
      "0008  -  0.0640184399664\n",
      "veri  -  0.0640184399664\n",
      "therefor  -  0.0640184399664\n",
      "heretofor  -  0.0640184399664\n",
      "unaddress  -  0.0640184399664\n",
      "exist  -  0.0640184399664\n",
      "art  -  0.0640184399664\n",
      "address  -  0.0640184399664\n",
      "aforement  -  0.0640184399664\n",
      "defici  -  0.0640184399664\n"
     ]
    },
    {
     "data": {
      "text/plain": [
       "34"
      ]
     },
     "execution_count": 25,
     "metadata": {},
     "output_type": "execute_result"
    }
   ],
   "source": [
    "tfidf = TfidfVectorizer(tokenizer=tokenize, stop_words='english',min_df=3)\n",
    "tfs = tfidf.fit_transform(token_dict.values())\n",
    "feature_names = tfidf.get_feature_names()\n",
    "for col in tfs.nonzero()[1]:\n",
    "    print feature_names[col], ' - ', tfs[1, col]\n",
    "len(feature_names)"
   ]
  },
  {
   "cell_type": "code",
   "execution_count": 26,
   "metadata": {
    "collapsed": false
   },
   "outputs": [],
   "source": [
    "from sklearn.metrics.pairwise import cosine_similarity\n",
    "from sklearn.metrics.pairwise import linear_kernel"
   ]
  },
  {
   "cell_type": "code",
   "execution_count": 27,
   "metadata": {
    "collapsed": false
   },
   "outputs": [],
   "source": [
    "#finding cosine similarity with doc1 with other documents\n",
    "#cosine_similarities = cosine_similarity(tfs[0:1], tfs)\n",
    "\n",
    "cosine_similarities = linear_kernel(tfs[0:1], tfs)\n",
    "\n"
   ]
  },
  {
   "cell_type": "code",
   "execution_count": 28,
   "metadata": {
    "collapsed": false
   },
   "outputs": [
    {
     "data": {
      "text/plain": [
       "array([[ 1.        ,  0.75394762,  0.74233902]])"
      ]
     },
     "execution_count": 28,
     "metadata": {},
     "output_type": "execute_result"
    }
   ],
   "source": [
    "cosine_similarities"
   ]
  }
 ],
 "metadata": {
  "kernelspec": {
   "display_name": "Python 2",
   "language": "python",
   "name": "python2"
  },
  "language_info": {
   "codemirror_mode": {
    "name": "ipython",
    "version": 2
   },
   "file_extension": ".py",
   "mimetype": "text/x-python",
   "name": "python",
   "nbconvert_exporter": "python",
   "pygments_lexer": "ipython2",
   "version": "2.7.10"
  }
 },
 "nbformat": 4,
 "nbformat_minor": 2
}
